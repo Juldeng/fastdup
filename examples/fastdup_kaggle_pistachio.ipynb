{
 "cells": [
  {
   "cell_type": "markdown",
   "metadata": {},
   "source": [
    "# Fastdup Tutorial"
   ]
  },
  {
   "cell_type": "markdown",
   "metadata": {},
   "source": [
    "In this notebook we illustrate how to gain insights quickly from a new dataset."
   ]
  },
  {
   "cell_type": "markdown",
   "metadata": {},
   "source": [
    "[Visit our GitHub Project Page](http://https://github.com/visualdatabase/fastdup)"
   ]
  },
  {
   "cell_type": "code",
   "execution_count": 1,
   "metadata": {
    "execution": {
     "iopub.execute_input": "2022-06-18T07:22:42.344710Z",
     "iopub.status.busy": "2022-06-18T07:22:42.343766Z",
     "iopub.status.idle": "2022-06-18T07:23:00.687276Z",
     "shell.execute_reply": "2022-06-18T07:23:00.685732Z",
     "shell.execute_reply.started": "2022-06-18T07:22:42.344580Z"
    }
   },
   "outputs": [],
   "source": [
    "!pip install -U fastdup"
   ]
  },
  {
   "cell_type": "markdown",
   "metadata": {},
   "source": []
  },
  {
   "cell_type": "code",
   "execution_count": 2,
   "metadata": {
    "execution": {
     "iopub.execute_input": "2022-06-18T07:23:12.869350Z",
     "iopub.status.busy": "2022-06-18T07:23:12.868823Z",
     "iopub.status.idle": "2022-06-18T07:23:13.214692Z",
     "shell.execute_reply": "2022-06-18T07:23:13.213657Z",
     "shell.execute_reply.started": "2022-06-18T07:23:12.869304Z"
    }
   },
   "outputs": [],
   "source": [
    "import fastdup\n",
    "fastdup.__version__"
   ]
  },
  {
   "cell_type": "markdown",
   "metadata": {},
   "source": [
    "Click +Add data and add the pistachio image dataset"
   ]
  },
  {
   "cell_type": "code",
   "execution_count": 7,
   "metadata": {
    "execution": {
     "iopub.execute_input": "2022-06-18T07:24:54.627561Z",
     "iopub.status.busy": "2022-06-18T07:24:54.627012Z",
     "iopub.status.idle": "2022-06-18T07:24:55.397665Z",
     "shell.execute_reply": "2022-06-18T07:24:55.396350Z",
     "shell.execute_reply.started": "2022-06-18T07:24:54.627515Z"
    }
   },
   "outputs": [],
   "source": [
    "!ls /kaggle/input/pistachio-image-dataset"
   ]
  },
  {
   "cell_type": "code",
   "execution_count": 8,
   "metadata": {
    "execution": {
     "iopub.execute_input": "2022-06-18T07:25:25.451464Z",
     "iopub.status.busy": "2022-06-18T07:25:25.450907Z",
     "iopub.status.idle": "2022-06-18T07:25:44.236601Z",
     "shell.execute_reply": "2022-06-18T07:25:44.235333Z",
     "shell.execute_reply.started": "2022-06-18T07:25:25.451415Z"
    }
   },
   "outputs": [],
   "source": [
    "fastdup.run('/kaggle/input/pistachio-image-dataset', work_dir='out')"
   ]
  },
  {
   "cell_type": "code",
   "execution_count": 9,
   "metadata": {
    "execution": {
     "iopub.execute_input": "2022-06-18T07:27:17.357837Z",
     "iopub.status.busy": "2022-06-18T07:27:17.356996Z",
     "iopub.status.idle": "2022-06-18T07:27:18.047554Z",
     "shell.execute_reply": "2022-06-18T07:27:18.046544Z",
     "shell.execute_reply.started": "2022-06-18T07:27:17.357786Z"
    }
   },
   "outputs": [],
   "source": [
    "fastdup.create_duplicates_gallery('out/similarity.csv',save_path='.', num_images=20)"
   ]
  },
  {
   "cell_type": "code",
   "execution_count": 10,
   "metadata": {
    "execution": {
     "iopub.execute_input": "2022-06-18T07:27:24.699230Z",
     "iopub.status.busy": "2022-06-18T07:27:24.698645Z",
     "iopub.status.idle": "2022-06-18T07:27:24.734113Z",
     "shell.execute_reply": "2022-06-18T07:27:24.733153Z",
     "shell.execute_reply.started": "2022-06-18T07:27:24.699174Z"
    }
   },
   "outputs": [],
   "source": [
    "from IPython.display import HTML\n",
    "HTML('similarity.html')"
   ]
  },
  {
   "cell_type": "code",
   "execution_count": 11,
   "metadata": {
    "execution": {
     "iopub.execute_input": "2022-06-18T07:27:59.848809Z",
     "iopub.status.busy": "2022-06-18T07:27:59.847630Z",
     "iopub.status.idle": "2022-06-18T07:28:00.130310Z",
     "shell.execute_reply": "2022-06-18T07:28:00.129097Z",
     "shell.execute_reply.started": "2022-06-18T07:27:59.848758Z"
    }
   },
   "outputs": [],
   "source": [
    "fastdup.create_outliers_gallery('out/outliers.csv',save_path='.', num_images=20)"
   ]
  },
  {
   "cell_type": "code",
   "execution_count": 12,
   "metadata": {
    "execution": {
     "iopub.execute_input": "2022-06-18T07:28:07.087311Z",
     "iopub.status.busy": "2022-06-18T07:28:07.086792Z",
     "iopub.status.idle": "2022-06-18T07:28:07.102264Z",
     "shell.execute_reply": "2022-06-18T07:28:07.101100Z",
     "shell.execute_reply.started": "2022-06-18T07:28:07.087267Z"
    }
   },
   "outputs": [],
   "source": [
    "HTML('outliers.html')"
   ]
  },
  {
   "cell_type": "code",
   "execution_count": 43,
   "metadata": {
    "execution": {
     "iopub.execute_input": "2022-06-18T07:44:42.971186Z",
     "iopub.status.busy": "2022-06-18T07:44:42.970745Z",
     "iopub.status.idle": "2022-06-18T07:44:43.085584Z",
     "shell.execute_reply": "2022-06-18T07:44:43.084738Z",
     "shell.execute_reply.started": "2022-06-18T07:44:42.971152Z"
    }
   },
   "outputs": [],
   "source": [
    "from IPython import display\n",
    "display.Image('log/sprite.png')"
   ]
  },
  {
   "cell_type": "code",
   "execution_count": 52,
   "metadata": {
    "execution": {
     "iopub.execute_input": "2022-06-18T07:57:00.724159Z",
     "iopub.status.busy": "2022-06-18T07:57:00.723747Z",
     "iopub.status.idle": "2022-06-18T07:57:07.564405Z",
     "shell.execute_reply": "2022-06-18T07:57:07.563279Z",
     "shell.execute_reply.started": "2022-06-18T07:57:00.724117Z"
    }
   },
   "outputs": [],
   "source": [
    "fastdup.create_components_gallery('out','.')"
   ]
  },
  {
   "cell_type": "code",
   "execution_count": 53,
   "metadata": {
    "execution": {
     "iopub.execute_input": "2022-06-18T07:57:27.332410Z",
     "iopub.status.busy": "2022-06-18T07:57:27.331968Z",
     "iopub.status.idle": "2022-06-18T07:57:27.352738Z",
     "shell.execute_reply": "2022-06-18T07:57:27.352018Z",
     "shell.execute_reply.started": "2022-06-18T07:57:27.332374Z"
    }
   },
   "outputs": [],
   "source": [
    "HTML('./components.html')"
   ]
  },
  {
   "cell_type": "code",
   "execution_count": null,
   "metadata": {},
   "outputs": [],
   "source": []
  }
 ],
 "metadata": {
  "kernelspec": {
   "display_name": "Python 3 (ipykernel)",
   "language": "python",
   "name": "python3"
  },
  "language_info": {
   "codemirror_mode": {
    "name": "ipython",
    "version": 3
   },
   "file_extension": ".py",
   "mimetype": "text/x-python",
   "name": "python",
   "nbconvert_exporter": "python",
   "pygments_lexer": "ipython3",
   "version": "3.9.7"
  }
 },
 "nbformat": 4,
 "nbformat_minor": 4
}
